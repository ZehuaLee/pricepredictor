{
 "cells": [
  {
   "cell_type": "code",
   "execution_count": 6,
   "metadata": {
    "tags": []
   },
   "outputs": [
    {
     "output_type": "stream",
     "name": "stdout",
     "text": "2020-07-07 21:33:39,423 INFO sqlalchemy.engine.base.Engine SELECT CAST('test plain returns' AS VARCHAR(60)) AS anon_1\n2020-07-07 21:33:39,424 INFO sqlalchemy.engine.base.Engine ()\n2020-07-07 21:33:39,425 INFO sqlalchemy.engine.base.Engine SELECT CAST('test unicode returns' AS VARCHAR(60)) AS anon_1\n2020-07-07 21:33:39,425 INFO sqlalchemy.engine.base.Engine ()\n2020-07-07 21:33:39,427 INFO sqlalchemy.engine.base.Engine PRAGMA main.table_info(\"Fund\")\n2020-07-07 21:33:39,427 INFO sqlalchemy.engine.base.Engine ()\n2020-07-07 21:33:39,429 INFO sqlalchemy.engine.base.Engine PRAGMA main.table_info(\"Record\")\n2020-07-07 21:33:39,430 INFO sqlalchemy.engine.base.Engine ()\n2020-07-07 21:33:39,431 INFO sqlalchemy.engine.base.Engine PRAGMA main.table_info(\"User\")\n2020-07-07 21:33:39,431 INFO sqlalchemy.engine.base.Engine ()\n2020-07-07 21:33:39,432 INFO sqlalchemy.engine.base.Engine PRAGMA main.table_info(\"Asset\")\n2020-07-07 21:33:39,433 INFO sqlalchemy.engine.base.Engine ()\n"
    }
   ],
   "source": [
    "import pandas as pd\n",
    "from utils.getfund import data_operator\n",
    "import pandas as pd\n",
    "from utils.operatefund import Operator, User\n",
    "from models.models import db_operator\n",
    "from utils.readconfig import config\n",
    "import datetime\n",
    "import os\n",
    "from multiprocessing import Process, Queue, Pool\n",
    "# from strategies.fixed import Strategy\n",
    "exec(\"from strategies.{} import Strategy\".format(config[\"strategy_file\"]))\n",
    "from concurrent.futures import ThreadPoolExecutor\n",
    "from strategies.fixed import Strategy\n",
    "import datetime"
   ]
  },
  {
   "cell_type": "code",
   "execution_count": 7,
   "metadata": {},
   "outputs": [
    {
     "output_type": "execute_result",
     "data": {
      "text/plain": "  fund_code       date  price  accumulate  daily_rate purchase_state  \\\n0    110013 2012-07-09  1.172       5.172     -0.0051           开放申购   \n1    110013 2012-07-10  1.157       5.152     -0.0128           开放申购   \n2    110013 2012-07-11  1.159       5.155      0.0017           开放申购   \n3    110013 2012-07-12  1.179       5.182      0.0173           开放申购   \n4    110013 2012-07-13  1.178       5.181     -0.0008           开放申购   \n5    110013 2012-07-16  1.147       5.139     -0.0263           开放申购   \n6    110013 2012-07-17  1.148       5.140      0.0009           开放申购   \n7    110013 2012-07-18  1.122       5.105     -0.0226           开放申购   \n8    110013 2012-07-19  1.121       5.104     -0.0009           开放申购   \n9    110013 2012-07-20  1.107       5.085     -0.0125           开放申购   \n\n  ransom_state dividends  \n0         开放赎回            \n1         开放赎回            \n2         开放赎回            \n3         开放赎回            \n4         开放赎回            \n5         开放赎回            \n6         开放赎回            \n7         开放赎回            \n8         开放赎回            \n9         开放赎回            ",
      "text/html": "<div>\n<style scoped>\n    .dataframe tbody tr th:only-of-type {\n        vertical-align: middle;\n    }\n\n    .dataframe tbody tr th {\n        vertical-align: top;\n    }\n\n    .dataframe thead th {\n        text-align: right;\n    }\n</style>\n<table border=\"1\" class=\"dataframe\">\n  <thead>\n    <tr style=\"text-align: right;\">\n      <th></th>\n      <th>fund_code</th>\n      <th>date</th>\n      <th>price</th>\n      <th>accumulate</th>\n      <th>daily_rate</th>\n      <th>purchase_state</th>\n      <th>ransom_state</th>\n      <th>dividends</th>\n    </tr>\n  </thead>\n  <tbody>\n    <tr>\n      <th>0</th>\n      <td>110013</td>\n      <td>2012-07-09</td>\n      <td>1.172</td>\n      <td>5.172</td>\n      <td>-0.0051</td>\n      <td>开放申购</td>\n      <td>开放赎回</td>\n      <td></td>\n    </tr>\n    <tr>\n      <th>1</th>\n      <td>110013</td>\n      <td>2012-07-10</td>\n      <td>1.157</td>\n      <td>5.152</td>\n      <td>-0.0128</td>\n      <td>开放申购</td>\n      <td>开放赎回</td>\n      <td></td>\n    </tr>\n    <tr>\n      <th>2</th>\n      <td>110013</td>\n      <td>2012-07-11</td>\n      <td>1.159</td>\n      <td>5.155</td>\n      <td>0.0017</td>\n      <td>开放申购</td>\n      <td>开放赎回</td>\n      <td></td>\n    </tr>\n    <tr>\n      <th>3</th>\n      <td>110013</td>\n      <td>2012-07-12</td>\n      <td>1.179</td>\n      <td>5.182</td>\n      <td>0.0173</td>\n      <td>开放申购</td>\n      <td>开放赎回</td>\n      <td></td>\n    </tr>\n    <tr>\n      <th>4</th>\n      <td>110013</td>\n      <td>2012-07-13</td>\n      <td>1.178</td>\n      <td>5.181</td>\n      <td>-0.0008</td>\n      <td>开放申购</td>\n      <td>开放赎回</td>\n      <td></td>\n    </tr>\n    <tr>\n      <th>5</th>\n      <td>110013</td>\n      <td>2012-07-16</td>\n      <td>1.147</td>\n      <td>5.139</td>\n      <td>-0.0263</td>\n      <td>开放申购</td>\n      <td>开放赎回</td>\n      <td></td>\n    </tr>\n    <tr>\n      <th>6</th>\n      <td>110013</td>\n      <td>2012-07-17</td>\n      <td>1.148</td>\n      <td>5.140</td>\n      <td>0.0009</td>\n      <td>开放申购</td>\n      <td>开放赎回</td>\n      <td></td>\n    </tr>\n    <tr>\n      <th>7</th>\n      <td>110013</td>\n      <td>2012-07-18</td>\n      <td>1.122</td>\n      <td>5.105</td>\n      <td>-0.0226</td>\n      <td>开放申购</td>\n      <td>开放赎回</td>\n      <td></td>\n    </tr>\n    <tr>\n      <th>8</th>\n      <td>110013</td>\n      <td>2012-07-19</td>\n      <td>1.121</td>\n      <td>5.104</td>\n      <td>-0.0009</td>\n      <td>开放申购</td>\n      <td>开放赎回</td>\n      <td></td>\n    </tr>\n    <tr>\n      <th>9</th>\n      <td>110013</td>\n      <td>2012-07-20</td>\n      <td>1.107</td>\n      <td>5.085</td>\n      <td>-0.0125</td>\n      <td>开放申购</td>\n      <td>开放赎回</td>\n      <td></td>\n    </tr>\n  </tbody>\n</table>\n</div>"
     },
     "metadata": {},
     "execution_count": 7
    }
   ],
   "source": [
    "fund_list = [\"110013\"]\n",
    "fd_data = data_operator.load_funds(fund_list)\n",
    "fd_data.head(10)"
   ]
  },
  {
   "cell_type": "code",
   "execution_count": null,
   "metadata": {},
   "outputs": [],
   "source": []
  }
 ],
 "metadata": {
  "language_info": {
   "codemirror_mode": {
    "name": "ipython",
    "version": 3
   },
   "file_extension": ".py",
   "mimetype": "text/x-python",
   "name": "python",
   "nbconvert_exporter": "python",
   "pygments_lexer": "ipython3",
   "version": 3
  },
  "orig_nbformat": 2,
  "kernelspec": {
   "name": "python_defaultSpec_1594124341898",
   "display_name": "Python 3.6.9 64-bit ('py369': conda)"
  }
 },
 "nbformat": 4,
 "nbformat_minor": 2
}