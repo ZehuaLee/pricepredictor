{
 "cells": [
  {
   "cell_type": "code",
   "execution_count": 1,
   "metadata": {},
   "outputs": [],
   "source": [
    "import pandas as pd"
   ]
  },
  {
   "cell_type": "code",
   "execution_count": 3,
   "metadata": {},
   "outputs": [],
   "source": [
    "from utils.getfund import data_operator\n",
    "import pandas as pd\n",
    "from utils.operatefund import Operator, User\n",
    "from models.models import db_operator\n",
    "from utils.readconfig import config\n",
    "import datetime\n",
    "import os\n",
    "from multiprocessing import Process, Queue, Pool\n",
    "# from strategies.fixed import Strategy\n",
    "exec(\"from strategies.{} import Strategy\".format(config[\"strategy_file\"]))\n",
    "from concurrent.futures import ThreadPoolExecutor\n",
    "from strategies.fixed import Strategy"
   ]
  },
  {
   "cell_type": "code",
   "execution_count": 4,
   "metadata": {},
   "outputs": [],
   "source": [
    "fds_list = db_operator.sql_query(sql = \"SELECT distinct fund_code from Fund\").fund_code.values"
   ]
  },
  {
   "cell_type": "code",
   "execution_count": 12,
   "metadata": {},
   "outputs": [],
   "source": [
    "testuser = User(username=\"tester_jupyter\", password=\"0000\", my_cash=10000)\n",
    "test_operator = Operator(user=testuser)"
   ]
  },
  {
   "cell_type": "code",
   "execution_count": 6,
   "metadata": {},
   "outputs": [
    {
     "name": "stdout",
     "output_type": "stream",
     "text": [
      "Wall time: 32.8 s\n"
     ]
    }
   ],
   "source": [
    "%time fds_all_3y = data_operator.load_funds(fund_codes=fds_list,duration=[datetime.datetime(2015,5,10), datetime.datetime(2018,5,10)],orderby=\"price\", asc=\"asc\")"
   ]
  },
  {
   "cell_type": "code",
   "execution_count": 14,
   "metadata": {},
   "outputs": [
    {
     "name": "stdout",
     "output_type": "stream",
     "text": [
      "Wall time: 19.7 s\n",
      "Wall time: 220 ms\n",
      "Wall time: 140 ms\n"
     ]
    }
   ],
   "source": [
    "%time fds_all_3y = data_operator.load_funds(fund_codes=fds_list,duration=[datetime.datetime(2015,5,10), datetime.datetime(2018,5,10)],orderby=\"price\", asc=\"asc\")\n",
    "%time fds_all_2y = fds_all_3y[fds_all_3y.date > datetime.datetime(2016,5,10)]\n",
    "%time fds_all_1y = fds_all_2y[fds_all_2y.date > datetime.datetime(2017,5,10)]"
   ]
  },
  {
   "cell_type": "code",
   "execution_count": 33,
   "metadata": {},
   "outputs": [
    {
     "name": "stderr",
     "output_type": "stream",
     "text": [
      "C:\\Users\\leezehua\\AppData\\Local\\conda\\conda\\envs\\py369\\lib\\site-packages\\pandas\\core\\indexing.py:670: SettingWithCopyWarning: \n",
      "A value is trying to be set on a copy of a slice from a DataFrame\n",
      "\n",
      "See the caveats in the documentation: https://pandas.pydata.org/pandas-docs/stable/user_guide/indexing.html#returning-a-view-versus-a-copy\n",
      "  self._setitem_with_indexer(indexer, value)\n"
     ]
    },
    {
     "data": {
      "text/plain": [
       "(True, 'The latest data is found.')"
      ]
     },
     "execution_count": 33,
     "metadata": {},
     "output_type": "execute_result"
    }
   ],
   "source": [
    "test_operator.buy_at_date(fund_code=\"110013\", date=datetime.datetime(2018,5,7), amount=100, if_value=True)\n",
    "test_operator.buy_at_date(fund_code=\"110031\", date=datetime.datetime(2018,5,8), amount=100, if_value=True)\n",
    "test_operator.buy_at_date(fund_code=\"000003\", date=datetime.datetime(2018,5,8), amount=100, if_value=True)"
   ]
  },
  {
   "cell_type": "code",
   "execution_count": 110,
   "metadata": {},
   "outputs": [
    {
     "name": "stdout",
     "output_type": "stream",
     "text": [
      "Wall time: 0 ns\n"
     ]
    },
    {
     "name": "stderr",
     "output_type": "stream",
     "text": [
      "C:\\Users\\leezehua\\AppData\\Local\\conda\\conda\\envs\\py369\\lib\\site-packages\\ipykernel_launcher.py:1: UserWarning: Boolean Series key will be reindexed to match DataFrame index.\n",
      "  \"\"\"Entry point for launching an IPython kernel.\n"
     ]
    },
    {
     "name": "stdout",
     "output_type": "stream",
     "text": [
      "Wall time: 19.1 s\n",
      "Wall time: 18.6 s\n",
      "Wall time: 17.5 s\n",
      "Wall time: 1 ms\n",
      "Wall time: 3 ms\n",
      "Wall time: 2 ms\n"
     ]
    },
    {
     "data": {
      "text/plain": [
       "fund_code\n",
       "000003    0.872727\n",
       "000004    0.872727\n",
       "000017    0.904545\n",
       "000031    0.895455\n",
       "000061    0.895455\n",
       "            ...   \n",
       "002392    0.323877\n",
       "002427    0.323877\n",
       "003641    0.305630\n",
       "050030    0.309549\n",
       "210001    0.305630\n",
       "Length: 272, dtype: float64"
      ]
     },
     "execution_count": 110,
     "metadata": {},
     "output_type": "execute_result"
    }
   ],
   "source": [
    "%time today_date = datetime.datetime(2018,5,10)\n",
    "%time res_3y = fds_all_3y.groupby(by=\"fund_code\").apply(lambda x: len(x[:len(x)*3//10][x[x.date==today_date].price.iloc[0]<x.price])/len(x[:len(x)*3//10]) if len(x[:len(x)*3//10])>0 and len(x[x.date==today_date])>0 else 0)\n",
    "%time res_2y = fds_all_2y.groupby(by=\"fund_code\").apply(lambda x: len(x[:len(x)*3//10][x[x.date==today_date].price.iloc[0]<x.price])/len(x[:len(x)*3//10]) if len(x[:len(x)*3//10])>0 and len(x[x.date==today_date])>0 else 0)*0.666\n",
    "%time res_1y = fds_all_1y.groupby(by=\"fund_code\").apply(lambda x: len(x[:len(x)*3//10][x[x.date==today_date].price.iloc[0]<x.price])/len(x[:len(x)*3//10]) if len(x[:len(x)*3//10])>0 and len(x[x.date==today_date])>0 else 0)*0.333\n",
    "%time result_list = res_3y[res_3y>0.7]\n",
    "%time result_list = result_list.append(res_2y[(res_2y>0.6) & (~(res_2y.index.isin(result_list.index)))])\n",
    "%time result_list = result_list.append(res_1y[(res_1y>0.3) & (~(res_1y.index.isin(result_list.index)))])\n",
    "result_list"
   ]
  },
  {
   "cell_type": "code",
   "execution_count": 36,
   "metadata": {},
   "outputs": [
    {
     "name": "stdout",
     "output_type": "stream",
     "text": [
      "Wall time: 0 ns\n",
      "Wall time: 0 ns\n"
     ]
    }
   ],
   "source": [
    "%time assets = testuser.asset\n",
    "%time records = testuser.record"
   ]
  },
  {
   "cell_type": "code",
   "execution_count": 50,
   "metadata": {},
   "outputs": [
    {
     "name": "stdout",
     "output_type": "stream",
     "text": [
      "Wall time: 3 ms\n",
      "Wall time: 16 ms\n"
     ]
    },
    {
     "data": {
      "text/plain": [
       "Index(['110013', '110013', '110031', '110031'], dtype='object', name='fund_code')"
      ]
     },
     "execution_count": 50,
     "metadata": {},
     "output_type": "execute_result"
    }
   ],
   "source": [
    "today_price = fds_all_3y[fds_all_3y.date == today_date][[\"fund_code\",\"price\"]].set_index(\"fund_code\")\n",
    "%time rec_in_days = records[(records.date>(today_date-datetime.timedelta(days=5))) & (records.fund_code.isin(fds_list)) & (records.buy_sell == \"buy\")].set_index(\"fund_code\")\n",
    "%time (rec_in_days[[\"price\"]]-today_price).fillna(0).apply(lambda x: x[x<0]).index"
   ]
  },
  {
   "cell_type": "code",
   "execution_count": 125,
   "metadata": {},
   "outputs": [
    {
     "ename": "AttributeError",
     "evalue": "'float' object has no attribute 'index'",
     "output_type": "error",
     "traceback": [
      "\u001b[1;31m---------------------------------------------------------------------------\u001b[0m",
      "\u001b[1;31mAttributeError\u001b[0m                            Traceback (most recent call last)",
      "\u001b[1;32m<ipython-input-125-13426672e652>\u001b[0m in \u001b[0;36m<module>\u001b[1;34m\u001b[0m\n\u001b[0;32m      3\u001b[0m \u001b[0mprob_plus\u001b[0m \u001b[1;33m=\u001b[0m \u001b[1;33m(\u001b[0m\u001b[0mavg_cost\u001b[0m\u001b[1;33m[\u001b[0m\u001b[1;34m\"avg_cost\"\u001b[0m\u001b[1;33m]\u001b[0m\u001b[1;33m-\u001b[0m\u001b[0mtoday_price\u001b[0m\u001b[1;33m[\u001b[0m\u001b[1;34m\"price\"\u001b[0m\u001b[1;33m]\u001b[0m\u001b[1;33m)\u001b[0m\u001b[1;33m.\u001b[0m\u001b[0mfillna\u001b[0m\u001b[1;33m(\u001b[0m\u001b[1;36m0\u001b[0m\u001b[1;33m)\u001b[0m\u001b[1;33m\u001b[0m\u001b[1;33m\u001b[0m\u001b[0m\n\u001b[0;32m      4\u001b[0m \u001b[1;32mfor\u001b[0m \u001b[0mx\u001b[0m \u001b[1;32min\u001b[0m \u001b[0mprob_plus\u001b[0m\u001b[1;33m:\u001b[0m\u001b[1;33m\u001b[0m\u001b[1;33m\u001b[0m\u001b[0m\n\u001b[1;32m----> 5\u001b[1;33m     \u001b[0mprint\u001b[0m\u001b[1;33m(\u001b[0m\u001b[0mx\u001b[0m\u001b[1;33m.\u001b[0m\u001b[0mindex\u001b[0m\u001b[1;33m)\u001b[0m\u001b[1;33m\u001b[0m\u001b[1;33m\u001b[0m\u001b[0m\n\u001b[0m",
      "\u001b[1;31mAttributeError\u001b[0m: 'float' object has no attribute 'index'"
     ]
    }
   ],
   "source": [
    "avg_cost = assets[[\"my_fund\",\"my_units\",\"my_cost\"]].rename(columns={\"my_fund\":\"fund_code\"}).set_index(\"fund_code\")\n",
    "avg_cost[\"avg_cost\"] = (avg_cost[\"my_cost\"]/avg_cost[\"my_units\"])\n",
    "prob_plus = (avg_cost[\"avg_cost\"]-today_price[\"price\"]).fillna(0)\n",
    "prob_plus"
   ]
  },
  {
   "cell_type": "code",
   "execution_count": 228,
   "metadata": {},
   "outputs": [],
   "source": [
    "result_list = result_list.to_frame(name=\"prob\")"
   ]
  },
  {
   "cell_type": "code",
   "execution_count": 232,
   "metadata": {},
   "outputs": [
    {
     "name": "stdout",
     "output_type": "stream",
     "text": [
      "prob    0.884873\n",
      "Name: 000003, dtype: float64\n",
      "Index(['000003', '000004', '000017', '000031', '000061', '000067', '000068',\n",
      "       '000092', '000209', '000290',\n",
      "       ...\n",
      "       '000522', '001061', '001212', '001213', '002194', '002392', '002427',\n",
      "       '003641', '050030', '210001'],\n",
      "      dtype='object', name='fund_code', length=272)\n",
      "prob    0.890946\n",
      "Name: 000003, dtype: float64\n"
     ]
    }
   ],
   "source": [
    "a=((avg_cost[\"avg_cost\"]-today_price[\"price\"])/avg_cost[\"avg_cost\"]).fillna(0)\n",
    "a = a[a!=0].to_frame(name=\"prob\")\n",
    "print(result_list.loc[\"000003\"])\n",
    "print(result_list.index)\n",
    "for x in a.index:\n",
    "    if x in result_list.index:\n",
    "        result_list.prob.loc[x] += a.prob.loc[x]\n",
    "print(result_list.loc[\"000003\"])"
   ]
  },
  {
   "cell_type": "code",
   "execution_count": 241,
   "metadata": {},
   "outputs": [
    {
     "name": "stdout",
     "output_type": "stream",
     "text": [
      "Wall time: 1 ms\n"
     ]
    }
   ],
   "source": [
    "%time not_to_buy = rec_in_days[~rec_in_days.index.duplicated()].index"
   ]
  },
  {
   "cell_type": "code",
   "execution_count": 95,
   "metadata": {},
   "outputs": [
    {
     "data": {
      "text/plain": [
       "fund_code\n",
       "000001    0.000000\n",
       "000003    0.538274\n",
       "000004    0.538274\n",
       "000005    0.000000\n",
       "000008    0.145973\n",
       "            ...   \n",
       "750002    0.000000\n",
       "750003    0.000000\n",
       "750005    0.000000\n",
       "762001    0.000000\n",
       "770001    0.000000\n",
       "Length: 4949, dtype: float64"
      ]
     },
     "execution_count": 95,
     "metadata": {},
     "output_type": "execute_result"
    }
   ],
   "source": [
    "res_2y"
   ]
  },
  {
   "cell_type": "code",
   "execution_count": 54,
   "metadata": {},
   "outputs": [
    {
     "data": {
      "text/plain": [
       "Series([], dtype: float64)"
      ]
     },
     "execution_count": 54,
     "metadata": {},
     "output_type": "execute_result"
    }
   ],
   "source": [
    "res_3y[res_3y>0.5]"
   ]
  },
  {
   "cell_type": "code",
   "execution_count": 43,
   "metadata": {},
   "outputs": [
    {
     "data": {
      "text/plain": [
       "0.38636363636363635"
      ]
     },
     "execution_count": 43,
     "metadata": {},
     "output_type": "execute_result"
    }
   ],
   "source": [
    "test_operator.buy_at_date(date=datetime.datetime(2016,5,23))"
   ]
  },
  {
   "cell_type": "code",
   "execution_count": 55,
   "metadata": {},
   "outputs": [
    {
     "name": "stdout",
     "output_type": "stream",
     "text": [
      "Wall time: 0 ns\n",
      "Wall time: 0 ns\n",
      "Wall time: 30.4 s\n",
      "Wall time: 344 ms\n",
      "Wall time: 324 ms\n"
     ]
    }
   ],
   "source": [
    "%time today_date = datetime.datetime(2019,1,1)\n",
    "%time dur = [today_date-datetime.timedelta(days=365*3), today_date]\n",
    "%time fds_all_3y = data_operator.load_funds(fund_codes=fds_list, duration=dur, orderby=\"price\", asc=\"asc\")\n",
    "%time fds_all_2y = fds_all_3y[fds_all_3y.date > today_date-datetime.timedelta(days=365*2)]\n",
    "%time fds_all_1y = fds_all_2y[fds_all_2y.date > today_date-datetime.timedelta(days=365)]"
   ]
  },
  {
   "cell_type": "code",
   "execution_count": 56,
   "metadata": {},
   "outputs": [
    {
     "name": "stderr",
     "output_type": "stream",
     "text": [
      "C:\\Users\\leezehua\\AppData\\Local\\conda\\conda\\envs\\py369\\lib\\site-packages\\ipykernel_launcher.py:1: UserWarning: Boolean Series key will be reindexed to match DataFrame index.\n",
      "  \"\"\"Entry point for launching an IPython kernel.\n"
     ]
    },
    {
     "name": "stdout",
     "output_type": "stream",
     "text": [
      "Wall time: 22.9 s\n"
     ]
    }
   ],
   "source": [
    "%time res_3y = fds_all_3y.groupby(by=\"fund_code\").apply(lambda x: len(x[:len(x)*3//10][x[x.date==datetime.datetime(2018,5,3)].price.iloc[0]<x.price])/len(x[:len(x)*3//10]) if len(x[:len(x)*3//10])>0 and len(x[x.date==datetime.datetime(2018,5,3)])>0 else 0)*0.66"
   ]
  },
  {
   "cell_type": "code",
   "execution_count": 107,
   "metadata": {},
   "outputs": [
    {
     "name": "stdout",
     "output_type": "stream",
     "text": [
      "Wall time: 2 ms\n"
     ]
    },
    {
     "data": {
      "text/plain": [
       "fund_code\n",
       "000003    0.872727\n",
       "000004    0.872727\n",
       "000017    0.904545\n",
       "000031    0.895455\n",
       "000061    0.895455\n",
       "            ...   \n",
       "690202    0.800000\n",
       "700005    0.777273\n",
       "700006    0.945455\n",
       "720001    0.959091\n",
       "730001    0.809091\n",
       "Length: 257, dtype: float64"
      ]
     },
     "execution_count": 107,
     "metadata": {},
     "output_type": "execute_result"
    }
   ],
   "source": [
    "%time res_3y[(res_3y>0.6) & (res_3y.index.isin(result_list.index))]"
   ]
  },
  {
   "cell_type": "code",
   "execution_count": 65,
   "metadata": {},
   "outputs": [],
   "source": [
    "a = res_3y[res_3y>0.6]"
   ]
  },
  {
   "cell_type": "code",
   "execution_count": 66,
   "metadata": {},
   "outputs": [
    {
     "data": {
      "text/plain": [
       "fund_code\n",
       "168204    0.624\n",
       "213917    0.636\n",
       "700005    0.612\n",
       "dtype: float64"
      ]
     },
     "execution_count": 66,
     "metadata": {},
     "output_type": "execute_result"
    }
   ],
   "source": []
  },
  {
   "cell_type": "code",
   "execution_count": 79,
   "metadata": {},
   "outputs": [],
   "source": [
    "b = res_3y[(res_3y>0) & (res_3y<0.005)]"
   ]
  },
  {
   "cell_type": "code",
   "execution_count": 264,
   "metadata": {},
   "outputs": [],
   "source": [
    "def if_buy_accerated(fund_list, today_date, if_verify=True, all_data_fund = None, user = testuser):\n",
    "        dur = [today_date-datetime.timedelta(days=365*3), today_date]\n",
    "        fds_all_3y = data_operator.load_funds(fund_codes=fund_list, duration=dur, orderby=\"price\", asc=\"asc\")\n",
    "        today_price = fds_all_3y[fds_all_3y.date == today_date].set_index(\"fund_code\")\n",
    "        if len(today_price) ==0:\n",
    "            return []\n",
    "        fds_all_2y = fds_all_3y[fds_all_3y.date > today_date-datetime.timedelta(days=365*2)]\n",
    "        fds_all_1y = fds_all_2y[fds_all_2y.date > today_date-datetime.timedelta(days=365)]\n",
    "        res_3y = fds_all_3y.groupby(by=\"fund_code\").apply(lambda x: len(x[:len(x)*3//10][x[x.date==today_date].price.iloc[0]<x.price])/len(x[:len(x)*3//10]) if len(x[:len(x)*3//10])>0 and len(x[x.date==today_date])>0 else 0)\n",
    "        res_2y = fds_all_2y.groupby(by=\"fund_code\").apply(lambda x: len(x[:len(x)*3//10][x[x.date==today_date].price.iloc[0]<x.price])/len(x[:len(x)*3//10]) if len(x[:len(x)*3//10])>0 and len(x[x.date==today_date])>0 else 0)*0.666\n",
    "        res_1y = fds_all_1y.groupby(by=\"fund_code\").apply(lambda x: len(x[:len(x)*3//10][x[x.date==today_date].price.iloc[0]<x.price])/len(x[:len(x)*3//10]) if len(x[:len(x)*3//10])>0 and len(x[x.date==today_date])>0 else 0)*0.333\n",
    "        result_list = res_3y[res_3y>0.7]\n",
    "        result_list = result_list.append(res_2y[(res_2y>0.6) & (~(res_2y.index.isin(result_list.index)))])\n",
    "        result_list = result_list.append(res_1y[(res_1y>0.3) & (~(res_1y.index.isin(result_list.index)))])\n",
    "        assets = user.asset\n",
    "        records = user.record\n",
    "        rec_in_days = records[(records.date>(today_date-datetime.timedelta(days=5))) & (records.fund_code.isin(fund_list)) & (records.buy_sell == \"buy\")].set_index(\"fund_code\")\n",
    "        fund_not_buy = (rec_in_days[[\"price\"]]-today_price[[\"price\"]]).fillna(0).apply(lambda x: x[x<0])\n",
    "        fund_not_buy = fund_not_buy[~fund_not_buy.index.duplicated()].index\n",
    "        avg_cost = assets[[\"my_fund\",\"my_units\",\"my_cost\"]].rename(columns={\"my_fund\":\"fund_code\"}).set_index(\"fund_code\")\n",
    "        avg_cost[\"avg_cost\"] = avg_cost[\"my_cost\"]/avg_cost[\"my_units\"]\n",
    "        avg_cost_prob = ((avg_cost[\"avg_cost\"]-today_price[\"price\"])/avg_cost[\"avg_cost\"]).fillna(0)\n",
    "        avg_cost_prob = avg_cost_prob[avg_cost_prob!=0].to_frame(name=\"prob\")\n",
    "        result_list = result_list.to_frame(name=\"prob\")\n",
    "        # result_list = result_list[~result_list.index.isin(fund_not_buy)]\n",
    "        for x in avg_cost_prob.index:\n",
    "            if x in result_list.index:\n",
    "                result_list.prob.loc[x] += avg_cost_prob.prob.loc[x]\n",
    "        return result_list[result_list.prob>0.7].fillna(0).sort_values(\"prob\", ascending=False)[:10]"
   ]
  },
  {
   "cell_type": "code",
   "execution_count": 269,
   "metadata": {},
   "outputs": [
    {
     "name": "stderr",
     "output_type": "stream",
     "text": [
      "C:\\Users\\leezehua\\AppData\\Local\\conda\\conda\\envs\\py369\\lib\\site-packages\\ipykernel_launcher.py:11: UserWarning: Boolean Series key will be reindexed to match DataFrame index.\n",
      "  # This is added back by InteractiveShellApp.init_path()\n"
     ]
    },
    {
     "name": "stdout",
     "output_type": "stream",
     "text": [
      "Wall time: 43.1 s\n"
     ]
    }
   ],
   "source": [
    "%time prob = if_sell_accerated(fund_list= fds_list,today_date=today_date,if_verify=True)"
   ]
  },
  {
   "cell_type": "code",
   "execution_count": 268,
   "metadata": {},
   "outputs": [],
   "source": [
    "def if_sell_accerated(fund_list, today_date=today_date, if_verify=True, all_data_fund = None, user = testuser):\n",
    "        dur = [today_date-datetime.timedelta(days=365*3), today_date]\n",
    "        assets = user.asset\n",
    "        records = user.record\n",
    "        if assets.empty:\n",
    "            return []\n",
    "        fds_all_3y = data_operator.load_funds(fund_codes=fund_list, duration=dur, orderby=\"price\", asc=\"desc\")\n",
    "        today_price = fds_all_3y[fds_all_3y.date == today_date].set_index(\"fund_code\")\n",
    "        if len(today_price) ==0:\n",
    "            return []\n",
    "        res_3y = fds_all_3y.groupby(by=\"fund_code\").apply(lambda x: len(x[:len(x)*3//10][x[x.date==today_date].price.iloc[0]>x.price])/len(x[:len(x)*3//10]) if len(x[:len(x)*3//10])>0 and len(x[x.date==today_date])>0 else 0)\n",
    "        result_list = res_3y[res_3y>0.7]\n",
    "        rec_in_days = records[(records.date>(today_date-datetime.timedelta(days=5))) & (records.fund_code.isin(fund_list)) & (records.buy_sell == \"sell\")].set_index(\"fund_code\")\n",
    "        fund_not_buy = (rec_in_days[[\"price\"]]-today_price[[\"price\"]]).fillna(0).apply(lambda x: x[x<0])\n",
    "        fund_not_buy = fund_not_buy[~fund_not_buy.index.duplicated()].index\n",
    "        avg_cost = assets[[\"my_fund\",\"my_units\",\"my_cost\"]].rename(columns={\"my_fund\":\"fund_code\"}).set_index(\"fund_code\")\n",
    "        avg_cost[\"avg_cost\"] = avg_cost[\"my_cost\"]/avg_cost[\"my_units\"]\n",
    "        avg_cost_prob = ((today_price[\"price\"]-avg_cost[\"avg_cost\"])/avg_cost[\"avg_cost\"]).fillna(0)\n",
    "        avg_cost_prob = avg_cost_prob[avg_cost_prob>0.2].to_frame(name=\"prob\")\n",
    "        result_list = result_list.to_frame(name=\"prob\")\n",
    "        result_list = result_list[(~result_list.index.isin(fund_not_buy)) & (result_list.index.isin(avg_cost_prob.index))]\n",
    "        for x in avg_cost_prob.index:\n",
    "            if x in result_list.index:\n",
    "                result_list.prob.loc[x] += avg_cost_prob.prob.loc[x]\n",
    "        return result_list[result_list.prob>0.7].fillna(0).sort_values(\"prob\", ascending=False)[:10]"
   ]
  },
  {
   "cell_type": "code",
   "execution_count": 270,
   "metadata": {},
   "outputs": [
    {
     "data": {
      "text/html": [
       "<div>\n",
       "<style scoped>\n",
       "    .dataframe tbody tr th:only-of-type {\n",
       "        vertical-align: middle;\n",
       "    }\n",
       "\n",
       "    .dataframe tbody tr th {\n",
       "        vertical-align: top;\n",
       "    }\n",
       "\n",
       "    .dataframe thead th {\n",
       "        text-align: right;\n",
       "    }\n",
       "</style>\n",
       "<table border=\"1\" class=\"dataframe\">\n",
       "  <thead>\n",
       "    <tr style=\"text-align: right;\">\n",
       "      <th></th>\n",
       "      <th>prob</th>\n",
       "    </tr>\n",
       "    <tr>\n",
       "      <th>fund_code</th>\n",
       "      <th></th>\n",
       "    </tr>\n",
       "  </thead>\n",
       "  <tbody>\n",
       "  </tbody>\n",
       "</table>\n",
       "</div>"
      ],
      "text/plain": [
       "Empty DataFrame\n",
       "Columns: [prob]\n",
       "Index: []"
      ]
     },
     "execution_count": 270,
     "metadata": {},
     "output_type": "execute_result"
    }
   ],
   "source": [
    "prob"
   ]
  },
  {
   "cell_type": "code",
   "execution_count": 84,
   "metadata": {},
   "outputs": [
    {
     "data": {
      "text/plain": [
       "fund_code\n",
       "168204    0.624\n",
       "213917    0.636\n",
       "700005    0.612\n",
       "dtype: float64"
      ]
     },
     "execution_count": 84,
     "metadata": {},
     "output_type": "execute_result"
    }
   ],
   "source": [
    "a"
   ]
  },
  {
   "cell_type": "code",
   "execution_count": 85,
   "metadata": {},
   "outputs": [],
   "source": []
  },
  {
   "cell_type": "code",
   "execution_count": 86,
   "metadata": {},
   "outputs": [
    {
     "data": {
      "text/plain": [
       "fund_code\n",
       "168204    0.624\n",
       "213917    0.636\n",
       "700005    0.612\n",
       "dtype: float64"
      ]
     },
     "execution_count": 86,
     "metadata": {},
     "output_type": "execute_result"
    }
   ],
   "source": [
    "a"
   ]
  },
  {
   "cell_type": "code",
   "execution_count": 105,
   "metadata": {},
   "outputs": [
    {
     "data": {
      "text/plain": [
       "Index(['000003', '000004', '000017', '000031', '000061', '000067', '000068',\n",
       "       '000092', '000209', '000290',\n",
       "       ...\n",
       "       '660005', '660102', '673060', '688888', '690002', '690202', '700005',\n",
       "       '700006', '720001', '730001'],\n",
       "      dtype='object', name='fund_code', length=257)"
      ]
     },
     "execution_count": 105,
     "metadata": {},
     "output_type": "execute_result"
    }
   ],
   "source": [
    "result_list.index"
   ]
  },
  {
   "cell_type": "code",
   "execution_count": 88,
   "metadata": {},
   "outputs": [
    {
     "data": {
      "text/html": [
       "<div>\n",
       "<style scoped>\n",
       "    .dataframe tbody tr th:only-of-type {\n",
       "        vertical-align: middle;\n",
       "    }\n",
       "\n",
       "    .dataframe tbody tr th {\n",
       "        vertical-align: top;\n",
       "    }\n",
       "\n",
       "    .dataframe thead th {\n",
       "        text-align: right;\n",
       "    }\n",
       "</style>\n",
       "<table border=\"1\" class=\"dataframe\">\n",
       "  <thead>\n",
       "    <tr style=\"text-align: right;\">\n",
       "      <th></th>\n",
       "      <th>fund_code</th>\n",
       "      <th>date</th>\n",
       "      <th>price</th>\n",
       "      <th>accumulate</th>\n",
       "      <th>daily_rate</th>\n",
       "      <th>purchase_state</th>\n",
       "      <th>ransom_state</th>\n",
       "      <th>dividends</th>\n",
       "    </tr>\n",
       "  </thead>\n",
       "  <tbody>\n",
       "  </tbody>\n",
       "</table>\n",
       "</div>"
      ],
      "text/plain": [
       "Empty DataFrame\n",
       "Columns: [fund_code, date, price, accumulate, daily_rate, purchase_state, ransom_state, dividends]\n",
       "Index: []"
      ]
     },
     "execution_count": 88,
     "metadata": {},
     "output_type": "execute_result"
    }
   ],
   "source": [
    "fds_all_3y[fds_all_3y.date==datetime.datetime(2016,1,1)]"
   ]
  },
  {
   "cell_type": "code",
   "execution_count": 89,
   "metadata": {},
   "outputs": [],
   "source": [
    "c = fds_all_3y[fds_all_3y.date==datetime.datetime(2016,1,1)]"
   ]
  },
  {
   "cell_type": "code",
   "execution_count": 90,
   "metadata": {},
   "outputs": [
    {
     "data": {
      "text/html": [
       "<div>\n",
       "<style scoped>\n",
       "    .dataframe tbody tr th:only-of-type {\n",
       "        vertical-align: middle;\n",
       "    }\n",
       "\n",
       "    .dataframe tbody tr th {\n",
       "        vertical-align: top;\n",
       "    }\n",
       "\n",
       "    .dataframe thead th {\n",
       "        text-align: right;\n",
       "    }\n",
       "</style>\n",
       "<table border=\"1\" class=\"dataframe\">\n",
       "  <thead>\n",
       "    <tr style=\"text-align: right;\">\n",
       "      <th></th>\n",
       "      <th>fund_code</th>\n",
       "      <th>date</th>\n",
       "      <th>price</th>\n",
       "      <th>accumulate</th>\n",
       "      <th>daily_rate</th>\n",
       "      <th>purchase_state</th>\n",
       "      <th>ransom_state</th>\n",
       "      <th>dividends</th>\n",
       "    </tr>\n",
       "  </thead>\n",
       "  <tbody>\n",
       "  </tbody>\n",
       "</table>\n",
       "</div>"
      ],
      "text/plain": [
       "Empty DataFrame\n",
       "Columns: [fund_code, date, price, accumulate, daily_rate, purchase_state, ransom_state, dividends]\n",
       "Index: []"
      ]
     },
     "execution_count": 90,
     "metadata": {},
     "output_type": "execute_result"
    }
   ],
   "source": [
    "c"
   ]
  },
  {
   "cell_type": "code",
   "execution_count": 91,
   "metadata": {},
   "outputs": [
    {
     "data": {
      "text/plain": [
       "0"
      ]
     },
     "execution_count": 91,
     "metadata": {},
     "output_type": "execute_result"
    }
   ],
   "source": [
    "len(c)"
   ]
  },
  {
   "cell_type": "code",
   "execution_count": 92,
   "metadata": {},
   "outputs": [],
   "source": [
    "c = fds_all_3y[fds_all_3y.date==datetime.datetime(2016,1,19)]"
   ]
  },
  {
   "cell_type": "code",
   "execution_count": 93,
   "metadata": {},
   "outputs": [
    {
     "data": {
      "text/plain": [
       "fund_code                      001481\n",
       "date              2016-01-19 00:00:00\n",
       "price                          0.0608\n",
       "accumulate                     0.0608\n",
       "daily_rate                      -0.05\n",
       "purchase_state                 限制大额申购\n",
       "ransom_state                     开放赎回\n",
       "dividends                            \n",
       "Name: 3, dtype: object"
      ]
     },
     "execution_count": 93,
     "metadata": {},
     "output_type": "execute_result"
    }
   ],
   "source": [
    "c.iloc[0]"
   ]
  },
  {
   "cell_type": "code",
   "execution_count": 94,
   "metadata": {},
   "outputs": [],
   "source": [
    "m = c.iloc[0]"
   ]
  },
  {
   "cell_type": "code",
   "execution_count": 95,
   "metadata": {},
   "outputs": [
    {
     "data": {
      "text/plain": [
       "0.0608"
      ]
     },
     "execution_count": 95,
     "metadata": {},
     "output_type": "execute_result"
    }
   ],
   "source": [
    "m.price"
   ]
  },
  {
   "cell_type": "code",
   "execution_count": 96,
   "metadata": {},
   "outputs": [
    {
     "data": {
      "text/plain": [
       "fund_code\n",
       "168204    0.624\n",
       "213917    0.636\n",
       "700005    0.612\n",
       "dtype: float64"
      ]
     },
     "execution_count": 96,
     "metadata": {},
     "output_type": "execute_result"
    }
   ],
   "source": [
    "a"
   ]
  },
  {
   "cell_type": "code",
   "execution_count": 104,
   "metadata": {},
   "outputs": [
    {
     "data": {
      "text/plain": [
       "Index(['000003', '000004', '000017', '000031', '000061', '000067', '000068',\n",
       "       '000092', '000209', '000290',\n",
       "       ...\n",
       "       '660005', '660102', '673060', '688888', '690002', '690202', '700005',\n",
       "       '700006', '720001', '730001'],\n",
       "      dtype='object', name='fund_code', length=257)"
      ]
     },
     "execution_count": 104,
     "metadata": {},
     "output_type": "execute_result"
    }
   ],
   "source": [
    "# a = res_3y[res_3y>0.6 & res_3y.index.isin(result_list.index)]\n",
    "result_list.index"
   ]
  },
  {
   "cell_type": "code",
   "execution_count": 99,
   "metadata": {},
   "outputs": [],
   "source": [
    "b= res_3y[res_3y>0.5]"
   ]
  },
  {
   "cell_type": "code",
   "execution_count": 100,
   "metadata": {},
   "outputs": [
    {
     "data": {
      "text/plain": [
       "fund_code\n",
       "000402    0.591000\n",
       "000403    0.573000\n",
       "001739    0.594000\n",
       "001750    0.573000\n",
       "004957    0.569412\n",
       "005007    0.552391\n",
       "005541    0.582353\n",
       "005542    0.582353\n",
       "005582    0.572000\n",
       "005921    0.565714\n",
       "161123    0.585000\n",
       "162907    0.558000\n",
       "164905    0.561000\n",
       "168204    0.624000\n",
       "213917    0.636000\n",
       "630003    0.507000\n",
       "630103    0.507000\n",
       "700005    0.612000\n",
       "700006    0.594000\n",
       "dtype: float64"
      ]
     },
     "execution_count": 100,
     "metadata": {},
     "output_type": "execute_result"
    }
   ],
   "source": [
    "b"
   ]
  },
  {
   "cell_type": "code",
   "execution_count": 101,
   "metadata": {},
   "outputs": [
    {
     "data": {
      "text/plain": [
       "fund_code\n",
       "168204    0.624\n",
       "213917    0.636\n",
       "700005    0.612\n",
       "dtype: float64"
      ]
     },
     "execution_count": 101,
     "metadata": {},
     "output_type": "execute_result"
    }
   ],
   "source": [
    "a"
   ]
  },
  {
   "cell_type": "code",
   "execution_count": 102,
   "metadata": {},
   "outputs": [
    {
     "data": {
      "text/plain": [
       "fund_code\n",
       "000402    NaN\n",
       "000403    NaN\n",
       "001739    NaN\n",
       "001750    NaN\n",
       "004957    NaN\n",
       "005007    NaN\n",
       "005541    NaN\n",
       "005542    NaN\n",
       "005582    NaN\n",
       "005921    NaN\n",
       "161123    NaN\n",
       "162907    NaN\n",
       "164905    NaN\n",
       "168204    0.0\n",
       "213917    0.0\n",
       "630003    NaN\n",
       "630103    NaN\n",
       "700005    0.0\n",
       "700006    NaN\n",
       "dtype: float64"
      ]
     },
     "execution_count": 102,
     "metadata": {},
     "output_type": "execute_result"
    }
   ],
   "source": [
    "a-b"
   ]
  },
  {
   "cell_type": "code",
   "execution_count": 103,
   "metadata": {},
   "outputs": [
    {
     "data": {
      "text/plain": [
       "fund_code\n",
       "000402    NaN\n",
       "000403    NaN\n",
       "001739    NaN\n",
       "001750    NaN\n",
       "004957    NaN\n",
       "005007    NaN\n",
       "005541    NaN\n",
       "005542    NaN\n",
       "005582    NaN\n",
       "005921    NaN\n",
       "161123    NaN\n",
       "162907    NaN\n",
       "164905    NaN\n",
       "168204    0.0\n",
       "213917    0.0\n",
       "630003    NaN\n",
       "630103    NaN\n",
       "700005    0.0\n",
       "700006    NaN\n",
       "dtype: float64"
      ]
     },
     "execution_count": 103,
     "metadata": {},
     "output_type": "execute_result"
    }
   ],
   "source": [
    "a-b.fillna(0)"
   ]
  },
  {
   "cell_type": "code",
   "execution_count": 104,
   "metadata": {},
   "outputs": [
    {
     "data": {
      "text/plain": [
       "fund_code\n",
       "000402    0.0\n",
       "000403    0.0\n",
       "001739    0.0\n",
       "001750    0.0\n",
       "004957    0.0\n",
       "005007    0.0\n",
       "005541    0.0\n",
       "005542    0.0\n",
       "005582    0.0\n",
       "005921    0.0\n",
       "161123    0.0\n",
       "162907    0.0\n",
       "164905    0.0\n",
       "168204    0.0\n",
       "213917    0.0\n",
       "630003    0.0\n",
       "630103    0.0\n",
       "700005    0.0\n",
       "700006    0.0\n",
       "dtype: float64"
      ]
     },
     "execution_count": 104,
     "metadata": {},
     "output_type": "execute_result"
    }
   ],
   "source": [
    "(a-b).fillna(0)"
   ]
  },
  {
   "cell_type": "code",
   "execution_count": 105,
   "metadata": {},
   "outputs": [
    {
     "data": {
      "text/html": [
       "<div>\n",
       "<style scoped>\n",
       "    .dataframe tbody tr th:only-of-type {\n",
       "        vertical-align: middle;\n",
       "    }\n",
       "\n",
       "    .dataframe tbody tr th {\n",
       "        vertical-align: top;\n",
       "    }\n",
       "\n",
       "    .dataframe thead th {\n",
       "        text-align: right;\n",
       "    }\n",
       "</style>\n",
       "<table border=\"1\" class=\"dataframe\">\n",
       "  <thead>\n",
       "    <tr style=\"text-align: right;\">\n",
       "      <th></th>\n",
       "      <th>fund_code</th>\n",
       "      <th>date</th>\n",
       "      <th>price</th>\n",
       "      <th>accumulate</th>\n",
       "      <th>daily_rate</th>\n",
       "      <th>purchase_state</th>\n",
       "      <th>ransom_state</th>\n",
       "      <th>dividends</th>\n",
       "    </tr>\n",
       "  </thead>\n",
       "  <tbody>\n",
       "    <tr>\n",
       "      <th>5</th>\n",
       "      <td>001481</td>\n",
       "      <td>2018-12-24</td>\n",
       "      <td>0.0614</td>\n",
       "      <td>0.0614</td>\n",
       "      <td>-0.04660</td>\n",
       "      <td>开放申购</td>\n",
       "      <td>开放赎回</td>\n",
       "      <td></td>\n",
       "    </tr>\n",
       "    <tr>\n",
       "      <th>7</th>\n",
       "      <td>001481</td>\n",
       "      <td>2018-12-25</td>\n",
       "      <td>0.0615</td>\n",
       "      <td>0.0615</td>\n",
       "      <td>0.00160</td>\n",
       "      <td>暂停申购</td>\n",
       "      <td>暂停赎回</td>\n",
       "      <td></td>\n",
       "    </tr>\n",
       "    <tr>\n",
       "      <th>20</th>\n",
       "      <td>001481</td>\n",
       "      <td>2018-12-21</td>\n",
       "      <td>0.0644</td>\n",
       "      <td>0.0644</td>\n",
       "      <td>-0.02280</td>\n",
       "      <td>开放申购</td>\n",
       "      <td>开放赎回</td>\n",
       "      <td></td>\n",
       "    </tr>\n",
       "    <tr>\n",
       "      <th>22</th>\n",
       "      <td>001481</td>\n",
       "      <td>2018-12-20</td>\n",
       "      <td>0.0659</td>\n",
       "      <td>0.0659</td>\n",
       "      <td>-0.03230</td>\n",
       "      <td>开放申购</td>\n",
       "      <td>开放赎回</td>\n",
       "      <td></td>\n",
       "    </tr>\n",
       "    <tr>\n",
       "      <th>28</th>\n",
       "      <td>001481</td>\n",
       "      <td>2018-12-28</td>\n",
       "      <td>0.0667</td>\n",
       "      <td>0.0667</td>\n",
       "      <td>-0.01620</td>\n",
       "      <td>开放申购</td>\n",
       "      <td>开放赎回</td>\n",
       "      <td></td>\n",
       "    </tr>\n",
       "    <tr>\n",
       "      <th>...</th>\n",
       "      <td>...</td>\n",
       "      <td>...</td>\n",
       "      <td>...</td>\n",
       "      <td>...</td>\n",
       "      <td>...</td>\n",
       "      <td>...</td>\n",
       "      <td>...</td>\n",
       "      <td>...</td>\n",
       "    </tr>\n",
       "    <tr>\n",
       "      <th>2696493</th>\n",
       "      <td>184801</td>\n",
       "      <td>2018-12-31</td>\n",
       "      <td>109.8090</td>\n",
       "      <td>1.1910</td>\n",
       "      <td>0.00024</td>\n",
       "      <td>场内买入</td>\n",
       "      <td>场内卖出</td>\n",
       "      <td></td>\n",
       "    </tr>\n",
       "    <tr>\n",
       "      <th>2696494</th>\n",
       "      <td>184801</td>\n",
       "      <td>2018-11-30</td>\n",
       "      <td>109.8290</td>\n",
       "      <td>1.1910</td>\n",
       "      <td>0.00024</td>\n",
       "      <td>场内买入</td>\n",
       "      <td>场内卖出</td>\n",
       "      <td></td>\n",
       "    </tr>\n",
       "    <tr>\n",
       "      <th>2696495</th>\n",
       "      <td>184801</td>\n",
       "      <td>2018-12-21</td>\n",
       "      <td>109.8480</td>\n",
       "      <td>1.1920</td>\n",
       "      <td>0.00024</td>\n",
       "      <td>场内买入</td>\n",
       "      <td>场内卖出</td>\n",
       "      <td></td>\n",
       "    </tr>\n",
       "    <tr>\n",
       "      <th>2696496</th>\n",
       "      <td>184801</td>\n",
       "      <td>2018-12-07</td>\n",
       "      <td>110.1330</td>\n",
       "      <td>1.1940</td>\n",
       "      <td>0.00024</td>\n",
       "      <td>场内买入</td>\n",
       "      <td>场内卖出</td>\n",
       "      <td></td>\n",
       "    </tr>\n",
       "    <tr>\n",
       "      <th>2696497</th>\n",
       "      <td>184801</td>\n",
       "      <td>2018-12-14</td>\n",
       "      <td>110.2240</td>\n",
       "      <td>1.1950</td>\n",
       "      <td>0.00024</td>\n",
       "      <td>场内买入</td>\n",
       "      <td>场内卖出</td>\n",
       "      <td></td>\n",
       "    </tr>\n",
       "  </tbody>\n",
       "</table>\n",
       "<p>1149070 rows × 8 columns</p>\n",
       "</div>"
      ],
      "text/plain": [
       "        fund_code       date     price  accumulate  daily_rate purchase_state  \\\n",
       "5          001481 2018-12-24    0.0614      0.0614    -0.04660           开放申购   \n",
       "7          001481 2018-12-25    0.0615      0.0615     0.00160           暂停申购   \n",
       "20         001481 2018-12-21    0.0644      0.0644    -0.02280           开放申购   \n",
       "22         001481 2018-12-20    0.0659      0.0659    -0.03230           开放申购   \n",
       "28         001481 2018-12-28    0.0667      0.0667    -0.01620           开放申购   \n",
       "...           ...        ...       ...         ...         ...            ...   \n",
       "2696493    184801 2018-12-31  109.8090      1.1910     0.00024           场内买入   \n",
       "2696494    184801 2018-11-30  109.8290      1.1910     0.00024           场内买入   \n",
       "2696495    184801 2018-12-21  109.8480      1.1920     0.00024           场内买入   \n",
       "2696496    184801 2018-12-07  110.1330      1.1940     0.00024           场内买入   \n",
       "2696497    184801 2018-12-14  110.2240      1.1950     0.00024           场内买入   \n",
       "\n",
       "        ransom_state dividends  \n",
       "5               开放赎回            \n",
       "7               暂停赎回            \n",
       "20              开放赎回            \n",
       "22              开放赎回            \n",
       "28              开放赎回            \n",
       "...              ...       ...  \n",
       "2696493         场内卖出            \n",
       "2696494         场内卖出            \n",
       "2696495         场内卖出            \n",
       "2696496         场内卖出            \n",
       "2696497         场内卖出            \n",
       "\n",
       "[1149070 rows x 8 columns]"
      ]
     },
     "execution_count": 105,
     "metadata": {},
     "output_type": "execute_result"
    }
   ],
   "source": [
    "fds_all_1y"
   ]
  },
  {
   "cell_type": "code",
   "execution_count": 106,
   "metadata": {},
   "outputs": [
    {
     "data": {
      "text/plain": [
       "5           1.000000\n",
       "7           1.000000\n",
       "20          1.000000\n",
       "22          1.000000\n",
       "28          1.000000\n",
       "             ...    \n",
       "2696493    92.198992\n",
       "2696494    92.215785\n",
       "2696495    92.154362\n",
       "2696496    92.238693\n",
       "2696497    92.237657\n",
       "Length: 1149070, dtype: float64"
      ]
     },
     "execution_count": 106,
     "metadata": {},
     "output_type": "execute_result"
    }
   ],
   "source": [
    "fds_all_1y.price/fds_all_1y.accumulate"
   ]
  },
  {
   "cell_type": "code",
   "execution_count": 107,
   "metadata": {},
   "outputs": [
    {
     "data": {
      "text/html": [
       "<div>\n",
       "<style scoped>\n",
       "    .dataframe tbody tr th:only-of-type {\n",
       "        vertical-align: middle;\n",
       "    }\n",
       "\n",
       "    .dataframe tbody tr th {\n",
       "        vertical-align: top;\n",
       "    }\n",
       "\n",
       "    .dataframe thead th {\n",
       "        text-align: right;\n",
       "    }\n",
       "</style>\n",
       "<table border=\"1\" class=\"dataframe\">\n",
       "  <thead>\n",
       "    <tr style=\"text-align: right;\">\n",
       "      <th></th>\n",
       "      <th>fund_code</th>\n",
       "      <th>date</th>\n",
       "      <th>price</th>\n",
       "      <th>accumulate</th>\n",
       "      <th>daily_rate</th>\n",
       "      <th>purchase_state</th>\n",
       "      <th>ransom_state</th>\n",
       "      <th>dividends</th>\n",
       "    </tr>\n",
       "  </thead>\n",
       "  <tbody>\n",
       "    <tr>\n",
       "      <th>3</th>\n",
       "      <td>001481</td>\n",
       "      <td>2016-01-19</td>\n",
       "      <td>0.0608</td>\n",
       "      <td>0.0608</td>\n",
       "      <td>-0.0500</td>\n",
       "      <td>限制大额申购</td>\n",
       "      <td>开放赎回</td>\n",
       "      <td></td>\n",
       "    </tr>\n",
       "    <tr>\n",
       "      <th>1105</th>\n",
       "      <td>001093</td>\n",
       "      <td>2016-01-19</td>\n",
       "      <td>0.1281</td>\n",
       "      <td>0.1281</td>\n",
       "      <td>-0.0206</td>\n",
       "      <td>限制大额申购</td>\n",
       "      <td>开放赎回</td>\n",
       "      <td></td>\n",
       "    </tr>\n",
       "    <tr>\n",
       "      <th>1182</th>\n",
       "      <td>110032</td>\n",
       "      <td>2016-01-19</td>\n",
       "      <td>0.1298</td>\n",
       "      <td>0.1298</td>\n",
       "      <td>0.0269</td>\n",
       "      <td>开放申购</td>\n",
       "      <td>开放赎回</td>\n",
       "      <td></td>\n",
       "    </tr>\n",
       "    <tr>\n",
       "      <th>1183</th>\n",
       "      <td>110033</td>\n",
       "      <td>2016-01-19</td>\n",
       "      <td>0.1298</td>\n",
       "      <td>0.1298</td>\n",
       "      <td>0.0269</td>\n",
       "      <td>开放申购</td>\n",
       "      <td>开放赎回</td>\n",
       "      <td></td>\n",
       "    </tr>\n",
       "    <tr>\n",
       "      <th>1960</th>\n",
       "      <td>000885</td>\n",
       "      <td>2016-01-19</td>\n",
       "      <td>0.1412</td>\n",
       "      <td>0.1412</td>\n",
       "      <td>-0.0049</td>\n",
       "      <td>限制大额申购</td>\n",
       "      <td>开放赎回</td>\n",
       "      <td></td>\n",
       "    </tr>\n",
       "    <tr>\n",
       "      <th>...</th>\n",
       "      <td>...</td>\n",
       "      <td>...</td>\n",
       "      <td>...</td>\n",
       "      <td>...</td>\n",
       "      <td>...</td>\n",
       "      <td>...</td>\n",
       "      <td>...</td>\n",
       "      <td>...</td>\n",
       "    </tr>\n",
       "    <tr>\n",
       "      <th>2693792</th>\n",
       "      <td>240008</td>\n",
       "      <td>2016-01-19</td>\n",
       "      <td>5.3924</td>\n",
       "      <td>5.3924</td>\n",
       "      <td>0.0321</td>\n",
       "      <td>开放申购</td>\n",
       "      <td>开放赎回</td>\n",
       "      <td></td>\n",
       "    </tr>\n",
       "    <tr>\n",
       "      <th>2693863</th>\n",
       "      <td>590008</td>\n",
       "      <td>2016-01-19</td>\n",
       "      <td>5.4380</td>\n",
       "      <td>5.4380</td>\n",
       "      <td>0.0299</td>\n",
       "      <td>开放申购</td>\n",
       "      <td>开放赎回</td>\n",
       "      <td></td>\n",
       "    </tr>\n",
       "    <tr>\n",
       "      <th>2694353</th>\n",
       "      <td>070006</td>\n",
       "      <td>2016-01-19</td>\n",
       "      <td>5.8250</td>\n",
       "      <td>6.3250</td>\n",
       "      <td>0.0419</td>\n",
       "      <td>开放申购</td>\n",
       "      <td>开放赎回</td>\n",
       "      <td></td>\n",
       "    </tr>\n",
       "    <tr>\n",
       "      <th>2695020</th>\n",
       "      <td>070002</td>\n",
       "      <td>2016-01-19</td>\n",
       "      <td>8.7650</td>\n",
       "      <td>9.4060</td>\n",
       "      <td>0.0241</td>\n",
       "      <td>限制大额申购</td>\n",
       "      <td>开放赎回</td>\n",
       "      <td></td>\n",
       "    </tr>\n",
       "    <tr>\n",
       "      <th>2695456</th>\n",
       "      <td>000011</td>\n",
       "      <td>2016-01-19</td>\n",
       "      <td>9.6300</td>\n",
       "      <td>13.6100</td>\n",
       "      <td>0.0381</td>\n",
       "      <td>开放申购</td>\n",
       "      <td>开放赎回</td>\n",
       "      <td></td>\n",
       "    </tr>\n",
       "  </tbody>\n",
       "</table>\n",
       "<p>2152 rows × 8 columns</p>\n",
       "</div>"
      ],
      "text/plain": [
       "        fund_code       date   price  accumulate  daily_rate purchase_state  \\\n",
       "3          001481 2016-01-19  0.0608      0.0608     -0.0500         限制大额申购   \n",
       "1105       001093 2016-01-19  0.1281      0.1281     -0.0206         限制大额申购   \n",
       "1182       110032 2016-01-19  0.1298      0.1298      0.0269           开放申购   \n",
       "1183       110033 2016-01-19  0.1298      0.1298      0.0269           开放申购   \n",
       "1960       000885 2016-01-19  0.1412      0.1412     -0.0049         限制大额申购   \n",
       "...           ...        ...     ...         ...         ...            ...   \n",
       "2693792    240008 2016-01-19  5.3924      5.3924      0.0321           开放申购   \n",
       "2693863    590008 2016-01-19  5.4380      5.4380      0.0299           开放申购   \n",
       "2694353    070006 2016-01-19  5.8250      6.3250      0.0419           开放申购   \n",
       "2695020    070002 2016-01-19  8.7650      9.4060      0.0241         限制大额申购   \n",
       "2695456    000011 2016-01-19  9.6300     13.6100      0.0381           开放申购   \n",
       "\n",
       "        ransom_state dividends  \n",
       "3               开放赎回            \n",
       "1105            开放赎回            \n",
       "1182            开放赎回            \n",
       "1183            开放赎回            \n",
       "1960            开放赎回            \n",
       "...              ...       ...  \n",
       "2693792         开放赎回            \n",
       "2693863         开放赎回            \n",
       "2694353         开放赎回            \n",
       "2695020         开放赎回            \n",
       "2695456         开放赎回            \n",
       "\n",
       "[2152 rows x 8 columns]"
      ]
     },
     "execution_count": 107,
     "metadata": {},
     "output_type": "execute_result"
    }
   ],
   "source": [
    "c"
   ]
  },
  {
   "cell_type": "code",
   "execution_count": 108,
   "metadata": {},
   "outputs": [
    {
     "ename": "TypeError",
     "evalue": "'(5          001481\n7          001481\n20         001481\n22         001481\n28         001481\n            ...  \n2696493    184801\n2696494    184801\n2696495    184801\n2696496    184801\n2696497    184801\nName: fund_code, Length: 1149070, dtype: object, 5           1.000000\n7           1.000000\n20          1.000000\n22          1.000000\n28          1.000000\n             ...    \n2696493    92.198992\n2696494    92.215785\n2696495    92.154362\n2696496    92.238693\n2696497    92.237657\nLength: 1149070, dtype: float64)' is an invalid key",
     "output_type": "error",
     "traceback": [
      "\u001b[1;31m---------------------------------------------------------------------------\u001b[0m",
      "\u001b[1;31mTypeError\u001b[0m                                 Traceback (most recent call last)",
      "\u001b[1;32m<ipython-input-108-2ae0951315f2>\u001b[0m in \u001b[0;36m<module>\u001b[1;34m\u001b[0m\n\u001b[1;32m----> 1\u001b[1;33m \u001b[0mc\u001b[0m \u001b[1;33m=\u001b[0m \u001b[0mfds_all_1y\u001b[0m\u001b[1;33m[\u001b[0m\u001b[0mfds_all_1y\u001b[0m\u001b[1;33m.\u001b[0m\u001b[0mfund_code\u001b[0m\u001b[1;33m,\u001b[0m \u001b[0mfds_all_1y\u001b[0m\u001b[1;33m.\u001b[0m\u001b[0mprice\u001b[0m\u001b[1;33m/\u001b[0m\u001b[0mfds_all_1y\u001b[0m\u001b[1;33m.\u001b[0m\u001b[0maccumulate\u001b[0m\u001b[1;33m]\u001b[0m\u001b[1;33m\u001b[0m\u001b[1;33m\u001b[0m\u001b[0m\n\u001b[0m",
      "\u001b[1;32m~\\AppData\\Local\\conda\\conda\\envs\\py369\\lib\\site-packages\\pandas\\core\\frame.py\u001b[0m in \u001b[0;36m__getitem__\u001b[1;34m(self, key)\u001b[0m\n\u001b[0;32m   2798\u001b[0m             \u001b[1;32mif\u001b[0m \u001b[0mself\u001b[0m\u001b[1;33m.\u001b[0m\u001b[0mcolumns\u001b[0m\u001b[1;33m.\u001b[0m\u001b[0mnlevels\u001b[0m \u001b[1;33m>\u001b[0m \u001b[1;36m1\u001b[0m\u001b[1;33m:\u001b[0m\u001b[1;33m\u001b[0m\u001b[1;33m\u001b[0m\u001b[0m\n\u001b[0;32m   2799\u001b[0m                 \u001b[1;32mreturn\u001b[0m \u001b[0mself\u001b[0m\u001b[1;33m.\u001b[0m\u001b[0m_getitem_multilevel\u001b[0m\u001b[1;33m(\u001b[0m\u001b[0mkey\u001b[0m\u001b[1;33m)\u001b[0m\u001b[1;33m\u001b[0m\u001b[1;33m\u001b[0m\u001b[0m\n\u001b[1;32m-> 2800\u001b[1;33m             \u001b[0mindexer\u001b[0m \u001b[1;33m=\u001b[0m \u001b[0mself\u001b[0m\u001b[1;33m.\u001b[0m\u001b[0mcolumns\u001b[0m\u001b[1;33m.\u001b[0m\u001b[0mget_loc\u001b[0m\u001b[1;33m(\u001b[0m\u001b[0mkey\u001b[0m\u001b[1;33m)\u001b[0m\u001b[1;33m\u001b[0m\u001b[1;33m\u001b[0m\u001b[0m\n\u001b[0m\u001b[0;32m   2801\u001b[0m             \u001b[1;32mif\u001b[0m \u001b[0mis_integer\u001b[0m\u001b[1;33m(\u001b[0m\u001b[0mindexer\u001b[0m\u001b[1;33m)\u001b[0m\u001b[1;33m:\u001b[0m\u001b[1;33m\u001b[0m\u001b[1;33m\u001b[0m\u001b[0m\n\u001b[0;32m   2802\u001b[0m                 \u001b[0mindexer\u001b[0m \u001b[1;33m=\u001b[0m \u001b[1;33m[\u001b[0m\u001b[0mindexer\u001b[0m\u001b[1;33m]\u001b[0m\u001b[1;33m\u001b[0m\u001b[1;33m\u001b[0m\u001b[0m\n",
      "\u001b[1;32m~\\AppData\\Local\\conda\\conda\\envs\\py369\\lib\\site-packages\\pandas\\core\\indexes\\base.py\u001b[0m in \u001b[0;36mget_loc\u001b[1;34m(self, key, method, tolerance)\u001b[0m\n\u001b[0;32m   2644\u001b[0m                 )\n\u001b[0;32m   2645\u001b[0m             \u001b[1;32mtry\u001b[0m\u001b[1;33m:\u001b[0m\u001b[1;33m\u001b[0m\u001b[1;33m\u001b[0m\u001b[0m\n\u001b[1;32m-> 2646\u001b[1;33m                 \u001b[1;32mreturn\u001b[0m \u001b[0mself\u001b[0m\u001b[1;33m.\u001b[0m\u001b[0m_engine\u001b[0m\u001b[1;33m.\u001b[0m\u001b[0mget_loc\u001b[0m\u001b[1;33m(\u001b[0m\u001b[0mkey\u001b[0m\u001b[1;33m)\u001b[0m\u001b[1;33m\u001b[0m\u001b[1;33m\u001b[0m\u001b[0m\n\u001b[0m\u001b[0;32m   2647\u001b[0m             \u001b[1;32mexcept\u001b[0m \u001b[0mKeyError\u001b[0m\u001b[1;33m:\u001b[0m\u001b[1;33m\u001b[0m\u001b[1;33m\u001b[0m\u001b[0m\n\u001b[0;32m   2648\u001b[0m                 \u001b[1;32mreturn\u001b[0m \u001b[0mself\u001b[0m\u001b[1;33m.\u001b[0m\u001b[0m_engine\u001b[0m\u001b[1;33m.\u001b[0m\u001b[0mget_loc\u001b[0m\u001b[1;33m(\u001b[0m\u001b[0mself\u001b[0m\u001b[1;33m.\u001b[0m\u001b[0m_maybe_cast_indexer\u001b[0m\u001b[1;33m(\u001b[0m\u001b[0mkey\u001b[0m\u001b[1;33m)\u001b[0m\u001b[1;33m)\u001b[0m\u001b[1;33m\u001b[0m\u001b[1;33m\u001b[0m\u001b[0m\n",
      "\u001b[1;32mpandas\\_libs\\index.pyx\u001b[0m in \u001b[0;36mpandas._libs.index.IndexEngine.get_loc\u001b[1;34m()\u001b[0m\n",
      "\u001b[1;32mpandas\\_libs\\index.pyx\u001b[0m in \u001b[0;36mpandas._libs.index.IndexEngine.get_loc\u001b[1;34m()\u001b[0m\n",
      "\u001b[1;31mTypeError\u001b[0m: '(5          001481\n7          001481\n20         001481\n22         001481\n28         001481\n            ...  \n2696493    184801\n2696494    184801\n2696495    184801\n2696496    184801\n2696497    184801\nName: fund_code, Length: 1149070, dtype: object, 5           1.000000\n7           1.000000\n20          1.000000\n22          1.000000\n28          1.000000\n             ...    \n2696493    92.198992\n2696494    92.215785\n2696495    92.154362\n2696496    92.238693\n2696497    92.237657\nLength: 1149070, dtype: float64)' is an invalid key"
     ]
    }
   ],
   "source": [
    "c = fds_all_1y[fds_all_1y.fund_code, fds_all_1y.price/fds_all_1y.accumulate]"
   ]
  },
  {
   "cell_type": "code",
   "execution_count": 110,
   "metadata": {},
   "outputs": [
    {
     "ename": "KeyError",
     "evalue": "('fund_code', 'price', 'accumulate')",
     "output_type": "error",
     "traceback": [
      "\u001b[1;31m---------------------------------------------------------------------------\u001b[0m",
      "\u001b[1;31mKeyError\u001b[0m                                  Traceback (most recent call last)",
      "\u001b[1;32m~\\AppData\\Local\\conda\\conda\\envs\\py369\\lib\\site-packages\\pandas\\core\\indexes\\base.py\u001b[0m in \u001b[0;36mget_loc\u001b[1;34m(self, key, method, tolerance)\u001b[0m\n\u001b[0;32m   2645\u001b[0m             \u001b[1;32mtry\u001b[0m\u001b[1;33m:\u001b[0m\u001b[1;33m\u001b[0m\u001b[1;33m\u001b[0m\u001b[0m\n\u001b[1;32m-> 2646\u001b[1;33m                 \u001b[1;32mreturn\u001b[0m \u001b[0mself\u001b[0m\u001b[1;33m.\u001b[0m\u001b[0m_engine\u001b[0m\u001b[1;33m.\u001b[0m\u001b[0mget_loc\u001b[0m\u001b[1;33m(\u001b[0m\u001b[0mkey\u001b[0m\u001b[1;33m)\u001b[0m\u001b[1;33m\u001b[0m\u001b[1;33m\u001b[0m\u001b[0m\n\u001b[0m\u001b[0;32m   2647\u001b[0m             \u001b[1;32mexcept\u001b[0m \u001b[0mKeyError\u001b[0m\u001b[1;33m:\u001b[0m\u001b[1;33m\u001b[0m\u001b[1;33m\u001b[0m\u001b[0m\n",
      "\u001b[1;32mpandas\\_libs\\index.pyx\u001b[0m in \u001b[0;36mpandas._libs.index.IndexEngine.get_loc\u001b[1;34m()\u001b[0m\n",
      "\u001b[1;32mpandas\\_libs\\index.pyx\u001b[0m in \u001b[0;36mpandas._libs.index.IndexEngine.get_loc\u001b[1;34m()\u001b[0m\n",
      "\u001b[1;32mpandas\\_libs\\hashtable_class_helper.pxi\u001b[0m in \u001b[0;36mpandas._libs.hashtable.PyObjectHashTable.get_item\u001b[1;34m()\u001b[0m\n",
      "\u001b[1;32mpandas\\_libs\\hashtable_class_helper.pxi\u001b[0m in \u001b[0;36mpandas._libs.hashtable.PyObjectHashTable.get_item\u001b[1;34m()\u001b[0m\n",
      "\u001b[1;31mKeyError\u001b[0m: ('fund_code', 'price', 'accumulate')",
      "\nDuring handling of the above exception, another exception occurred:\n",
      "\u001b[1;31mKeyError\u001b[0m                                  Traceback (most recent call last)",
      "\u001b[1;32m<ipython-input-110-4ce3eb3c984e>\u001b[0m in \u001b[0;36m<module>\u001b[1;34m\u001b[0m\n\u001b[1;32m----> 1\u001b[1;33m \u001b[0mc\u001b[0m \u001b[1;33m=\u001b[0m \u001b[0mfds_all_1y\u001b[0m\u001b[1;33m[\u001b[0m\u001b[1;34m\"fund_code\"\u001b[0m\u001b[1;33m,\u001b[0m \u001b[1;34m\"price\"\u001b[0m\u001b[1;33m,\u001b[0m \u001b[1;34m\"accumulate\"\u001b[0m\u001b[1;33m]\u001b[0m\u001b[1;33m\u001b[0m\u001b[1;33m\u001b[0m\u001b[0m\n\u001b[0m",
      "\u001b[1;32m~\\AppData\\Local\\conda\\conda\\envs\\py369\\lib\\site-packages\\pandas\\core\\frame.py\u001b[0m in \u001b[0;36m__getitem__\u001b[1;34m(self, key)\u001b[0m\n\u001b[0;32m   2798\u001b[0m             \u001b[1;32mif\u001b[0m \u001b[0mself\u001b[0m\u001b[1;33m.\u001b[0m\u001b[0mcolumns\u001b[0m\u001b[1;33m.\u001b[0m\u001b[0mnlevels\u001b[0m \u001b[1;33m>\u001b[0m \u001b[1;36m1\u001b[0m\u001b[1;33m:\u001b[0m\u001b[1;33m\u001b[0m\u001b[1;33m\u001b[0m\u001b[0m\n\u001b[0;32m   2799\u001b[0m                 \u001b[1;32mreturn\u001b[0m \u001b[0mself\u001b[0m\u001b[1;33m.\u001b[0m\u001b[0m_getitem_multilevel\u001b[0m\u001b[1;33m(\u001b[0m\u001b[0mkey\u001b[0m\u001b[1;33m)\u001b[0m\u001b[1;33m\u001b[0m\u001b[1;33m\u001b[0m\u001b[0m\n\u001b[1;32m-> 2800\u001b[1;33m             \u001b[0mindexer\u001b[0m \u001b[1;33m=\u001b[0m \u001b[0mself\u001b[0m\u001b[1;33m.\u001b[0m\u001b[0mcolumns\u001b[0m\u001b[1;33m.\u001b[0m\u001b[0mget_loc\u001b[0m\u001b[1;33m(\u001b[0m\u001b[0mkey\u001b[0m\u001b[1;33m)\u001b[0m\u001b[1;33m\u001b[0m\u001b[1;33m\u001b[0m\u001b[0m\n\u001b[0m\u001b[0;32m   2801\u001b[0m             \u001b[1;32mif\u001b[0m \u001b[0mis_integer\u001b[0m\u001b[1;33m(\u001b[0m\u001b[0mindexer\u001b[0m\u001b[1;33m)\u001b[0m\u001b[1;33m:\u001b[0m\u001b[1;33m\u001b[0m\u001b[1;33m\u001b[0m\u001b[0m\n\u001b[0;32m   2802\u001b[0m                 \u001b[0mindexer\u001b[0m \u001b[1;33m=\u001b[0m \u001b[1;33m[\u001b[0m\u001b[0mindexer\u001b[0m\u001b[1;33m]\u001b[0m\u001b[1;33m\u001b[0m\u001b[1;33m\u001b[0m\u001b[0m\n",
      "\u001b[1;32m~\\AppData\\Local\\conda\\conda\\envs\\py369\\lib\\site-packages\\pandas\\core\\indexes\\base.py\u001b[0m in \u001b[0;36mget_loc\u001b[1;34m(self, key, method, tolerance)\u001b[0m\n\u001b[0;32m   2646\u001b[0m                 \u001b[1;32mreturn\u001b[0m \u001b[0mself\u001b[0m\u001b[1;33m.\u001b[0m\u001b[0m_engine\u001b[0m\u001b[1;33m.\u001b[0m\u001b[0mget_loc\u001b[0m\u001b[1;33m(\u001b[0m\u001b[0mkey\u001b[0m\u001b[1;33m)\u001b[0m\u001b[1;33m\u001b[0m\u001b[1;33m\u001b[0m\u001b[0m\n\u001b[0;32m   2647\u001b[0m             \u001b[1;32mexcept\u001b[0m \u001b[0mKeyError\u001b[0m\u001b[1;33m:\u001b[0m\u001b[1;33m\u001b[0m\u001b[1;33m\u001b[0m\u001b[0m\n\u001b[1;32m-> 2648\u001b[1;33m                 \u001b[1;32mreturn\u001b[0m \u001b[0mself\u001b[0m\u001b[1;33m.\u001b[0m\u001b[0m_engine\u001b[0m\u001b[1;33m.\u001b[0m\u001b[0mget_loc\u001b[0m\u001b[1;33m(\u001b[0m\u001b[0mself\u001b[0m\u001b[1;33m.\u001b[0m\u001b[0m_maybe_cast_indexer\u001b[0m\u001b[1;33m(\u001b[0m\u001b[0mkey\u001b[0m\u001b[1;33m)\u001b[0m\u001b[1;33m)\u001b[0m\u001b[1;33m\u001b[0m\u001b[1;33m\u001b[0m\u001b[0m\n\u001b[0m\u001b[0;32m   2649\u001b[0m         \u001b[0mindexer\u001b[0m \u001b[1;33m=\u001b[0m \u001b[0mself\u001b[0m\u001b[1;33m.\u001b[0m\u001b[0mget_indexer\u001b[0m\u001b[1;33m(\u001b[0m\u001b[1;33m[\u001b[0m\u001b[0mkey\u001b[0m\u001b[1;33m]\u001b[0m\u001b[1;33m,\u001b[0m \u001b[0mmethod\u001b[0m\u001b[1;33m=\u001b[0m\u001b[0mmethod\u001b[0m\u001b[1;33m,\u001b[0m \u001b[0mtolerance\u001b[0m\u001b[1;33m=\u001b[0m\u001b[0mtolerance\u001b[0m\u001b[1;33m)\u001b[0m\u001b[1;33m\u001b[0m\u001b[1;33m\u001b[0m\u001b[0m\n\u001b[0;32m   2650\u001b[0m         \u001b[1;32mif\u001b[0m \u001b[0mindexer\u001b[0m\u001b[1;33m.\u001b[0m\u001b[0mndim\u001b[0m \u001b[1;33m>\u001b[0m \u001b[1;36m1\u001b[0m \u001b[1;32mor\u001b[0m \u001b[0mindexer\u001b[0m\u001b[1;33m.\u001b[0m\u001b[0msize\u001b[0m \u001b[1;33m>\u001b[0m \u001b[1;36m1\u001b[0m\u001b[1;33m:\u001b[0m\u001b[1;33m\u001b[0m\u001b[1;33m\u001b[0m\u001b[0m\n",
      "\u001b[1;32mpandas\\_libs\\index.pyx\u001b[0m in \u001b[0;36mpandas._libs.index.IndexEngine.get_loc\u001b[1;34m()\u001b[0m\n",
      "\u001b[1;32mpandas\\_libs\\index.pyx\u001b[0m in \u001b[0;36mpandas._libs.index.IndexEngine.get_loc\u001b[1;34m()\u001b[0m\n",
      "\u001b[1;32mpandas\\_libs\\hashtable_class_helper.pxi\u001b[0m in \u001b[0;36mpandas._libs.hashtable.PyObjectHashTable.get_item\u001b[1;34m()\u001b[0m\n",
      "\u001b[1;32mpandas\\_libs\\hashtable_class_helper.pxi\u001b[0m in \u001b[0;36mpandas._libs.hashtable.PyObjectHashTable.get_item\u001b[1;34m()\u001b[0m\n",
      "\u001b[1;31mKeyError\u001b[0m: ('fund_code', 'price', 'accumulate')"
     ]
    }
   ],
   "source": [
    "c = fds_all_1y[\"fund_code\", \"price\", \"accumulate\"]"
   ]
  },
  {
   "cell_type": "code",
   "execution_count": 136,
   "metadata": {},
   "outputs": [
    {
     "name": "stdout",
     "output_type": "stream",
     "text": [
      "Wall time: 209 ms\n"
     ]
    }
   ],
   "source": [
    "%time c = fds_all_1y[[\"fund_code\",\"price\",\"accumulate\"]].rename(columns={\"fund_code\":\"fund\"}).set_index(\"fund\")"
   ]
  },
  {
   "cell_type": "code",
   "execution_count": 137,
   "metadata": {},
   "outputs": [
    {
     "data": {
      "text/html": [
       "<div>\n",
       "<style scoped>\n",
       "    .dataframe tbody tr th:only-of-type {\n",
       "        vertical-align: middle;\n",
       "    }\n",
       "\n",
       "    .dataframe tbody tr th {\n",
       "        vertical-align: top;\n",
       "    }\n",
       "\n",
       "    .dataframe thead th {\n",
       "        text-align: right;\n",
       "    }\n",
       "</style>\n",
       "<table border=\"1\" class=\"dataframe\">\n",
       "  <thead>\n",
       "    <tr style=\"text-align: right;\">\n",
       "      <th></th>\n",
       "      <th>price</th>\n",
       "      <th>accumulate</th>\n",
       "    </tr>\n",
       "    <tr>\n",
       "      <th>fund</th>\n",
       "      <th></th>\n",
       "      <th></th>\n",
       "    </tr>\n",
       "  </thead>\n",
       "  <tbody>\n",
       "    <tr>\n",
       "      <th>001481</th>\n",
       "      <td>0.0614</td>\n",
       "      <td>0.0614</td>\n",
       "    </tr>\n",
       "    <tr>\n",
       "      <th>001481</th>\n",
       "      <td>0.0615</td>\n",
       "      <td>0.0615</td>\n",
       "    </tr>\n",
       "    <tr>\n",
       "      <th>001481</th>\n",
       "      <td>0.0644</td>\n",
       "      <td>0.0644</td>\n",
       "    </tr>\n",
       "    <tr>\n",
       "      <th>001481</th>\n",
       "      <td>0.0659</td>\n",
       "      <td>0.0659</td>\n",
       "    </tr>\n",
       "    <tr>\n",
       "      <th>001481</th>\n",
       "      <td>0.0667</td>\n",
       "      <td>0.0667</td>\n",
       "    </tr>\n",
       "    <tr>\n",
       "      <th>...</th>\n",
       "      <td>...</td>\n",
       "      <td>...</td>\n",
       "    </tr>\n",
       "    <tr>\n",
       "      <th>184801</th>\n",
       "      <td>109.8090</td>\n",
       "      <td>1.1910</td>\n",
       "    </tr>\n",
       "    <tr>\n",
       "      <th>184801</th>\n",
       "      <td>109.8290</td>\n",
       "      <td>1.1910</td>\n",
       "    </tr>\n",
       "    <tr>\n",
       "      <th>184801</th>\n",
       "      <td>109.8480</td>\n",
       "      <td>1.1920</td>\n",
       "    </tr>\n",
       "    <tr>\n",
       "      <th>184801</th>\n",
       "      <td>110.1330</td>\n",
       "      <td>1.1940</td>\n",
       "    </tr>\n",
       "    <tr>\n",
       "      <th>184801</th>\n",
       "      <td>110.2240</td>\n",
       "      <td>1.1950</td>\n",
       "    </tr>\n",
       "  </tbody>\n",
       "</table>\n",
       "<p>1149070 rows × 2 columns</p>\n",
       "</div>"
      ],
      "text/plain": [
       "           price  accumulate\n",
       "fund                        \n",
       "001481    0.0614      0.0614\n",
       "001481    0.0615      0.0615\n",
       "001481    0.0644      0.0644\n",
       "001481    0.0659      0.0659\n",
       "001481    0.0667      0.0667\n",
       "...          ...         ...\n",
       "184801  109.8090      1.1910\n",
       "184801  109.8290      1.1910\n",
       "184801  109.8480      1.1920\n",
       "184801  110.1330      1.1940\n",
       "184801  110.2240      1.1950\n",
       "\n",
       "[1149070 rows x 2 columns]"
      ]
     },
     "execution_count": 137,
     "metadata": {},
     "output_type": "execute_result"
    }
   ],
   "source": [
    "c"
   ]
  },
  {
   "cell_type": "code",
   "execution_count": 120,
   "metadata": {},
   "outputs": [
    {
     "data": {
      "text/html": [
       "<div>\n",
       "<style scoped>\n",
       "    .dataframe tbody tr th:only-of-type {\n",
       "        vertical-align: middle;\n",
       "    }\n",
       "\n",
       "    .dataframe tbody tr th {\n",
       "        vertical-align: top;\n",
       "    }\n",
       "\n",
       "    .dataframe thead th {\n",
       "        text-align: right;\n",
       "    }\n",
       "</style>\n",
       "<table border=\"1\" class=\"dataframe\">\n",
       "  <thead>\n",
       "    <tr style=\"text-align: right;\">\n",
       "      <th></th>\n",
       "      <th>fund_code</th>\n",
       "      <th>price</th>\n",
       "      <th>accumulate</th>\n",
       "      <th>fff</th>\n",
       "    </tr>\n",
       "  </thead>\n",
       "  <tbody>\n",
       "    <tr>\n",
       "      <th>5</th>\n",
       "      <td>001481</td>\n",
       "      <td>0.0614</td>\n",
       "      <td>0.0614</td>\n",
       "      <td>1.000000</td>\n",
       "    </tr>\n",
       "    <tr>\n",
       "      <th>7</th>\n",
       "      <td>001481</td>\n",
       "      <td>0.0615</td>\n",
       "      <td>0.0615</td>\n",
       "      <td>1.000000</td>\n",
       "    </tr>\n",
       "    <tr>\n",
       "      <th>20</th>\n",
       "      <td>001481</td>\n",
       "      <td>0.0644</td>\n",
       "      <td>0.0644</td>\n",
       "      <td>1.000000</td>\n",
       "    </tr>\n",
       "    <tr>\n",
       "      <th>22</th>\n",
       "      <td>001481</td>\n",
       "      <td>0.0659</td>\n",
       "      <td>0.0659</td>\n",
       "      <td>1.000000</td>\n",
       "    </tr>\n",
       "    <tr>\n",
       "      <th>28</th>\n",
       "      <td>001481</td>\n",
       "      <td>0.0667</td>\n",
       "      <td>0.0667</td>\n",
       "      <td>1.000000</td>\n",
       "    </tr>\n",
       "    <tr>\n",
       "      <th>...</th>\n",
       "      <td>...</td>\n",
       "      <td>...</td>\n",
       "      <td>...</td>\n",
       "      <td>...</td>\n",
       "    </tr>\n",
       "    <tr>\n",
       "      <th>2696493</th>\n",
       "      <td>184801</td>\n",
       "      <td>109.8090</td>\n",
       "      <td>1.1910</td>\n",
       "      <td>92.198992</td>\n",
       "    </tr>\n",
       "    <tr>\n",
       "      <th>2696494</th>\n",
       "      <td>184801</td>\n",
       "      <td>109.8290</td>\n",
       "      <td>1.1910</td>\n",
       "      <td>92.215785</td>\n",
       "    </tr>\n",
       "    <tr>\n",
       "      <th>2696495</th>\n",
       "      <td>184801</td>\n",
       "      <td>109.8480</td>\n",
       "      <td>1.1920</td>\n",
       "      <td>92.154362</td>\n",
       "    </tr>\n",
       "    <tr>\n",
       "      <th>2696496</th>\n",
       "      <td>184801</td>\n",
       "      <td>110.1330</td>\n",
       "      <td>1.1940</td>\n",
       "      <td>92.238693</td>\n",
       "    </tr>\n",
       "    <tr>\n",
       "      <th>2696497</th>\n",
       "      <td>184801</td>\n",
       "      <td>110.2240</td>\n",
       "      <td>1.1950</td>\n",
       "      <td>92.237657</td>\n",
       "    </tr>\n",
       "  </tbody>\n",
       "</table>\n",
       "<p>1149070 rows × 4 columns</p>\n",
       "</div>"
      ],
      "text/plain": [
       "        fund_code     price  accumulate        fff\n",
       "5          001481    0.0614      0.0614   1.000000\n",
       "7          001481    0.0615      0.0615   1.000000\n",
       "20         001481    0.0644      0.0644   1.000000\n",
       "22         001481    0.0659      0.0659   1.000000\n",
       "28         001481    0.0667      0.0667   1.000000\n",
       "...           ...       ...         ...        ...\n",
       "2696493    184801  109.8090      1.1910  92.198992\n",
       "2696494    184801  109.8290      1.1910  92.215785\n",
       "2696495    184801  109.8480      1.1920  92.154362\n",
       "2696496    184801  110.1330      1.1940  92.238693\n",
       "2696497    184801  110.2240      1.1950  92.237657\n",
       "\n",
       "[1149070 rows x 4 columns]"
      ]
     },
     "execution_count": 120,
     "metadata": {},
     "output_type": "execute_result"
    }
   ],
   "source": [
    "c"
   ]
  },
  {
   "cell_type": "code",
   "execution_count": 121,
   "metadata": {},
   "outputs": [
    {
     "name": "stdout",
     "output_type": "stream",
     "text": [
      "Wall time: 17 ms\n"
     ]
    },
    {
     "name": "stderr",
     "output_type": "stream",
     "text": [
      "C:\\Users\\leezehua\\AppData\\Local\\conda\\conda\\envs\\py369\\lib\\site-packages\\ipykernel_launcher.py:1: SettingWithCopyWarning: \n",
      "A value is trying to be set on a copy of a slice from a DataFrame.\n",
      "Try using .loc[row_indexer,col_indexer] = value instead\n",
      "\n",
      "See the caveats in the documentation: https://pandas.pydata.org/pandas-docs/stable/user_guide/indexing.html#returning-a-view-versus-a-copy\n",
      "  \"\"\"Entry point for launching an IPython kernel.\n"
     ]
    }
   ],
   "source": [
    "%time c[\"fff\"]=c[\"price\"]/c[\"accumulate\"]"
   ]
  },
  {
   "cell_type": "code",
   "execution_count": 123,
   "metadata": {},
   "outputs": [
    {
     "name": "stdout",
     "output_type": "stream",
     "text": [
      "Wall time: 44.2 s\n"
     ]
    },
    {
     "name": "stderr",
     "output_type": "stream",
     "text": [
      "C:\\Users\\leezehua\\AppData\\Local\\conda\\conda\\envs\\py369\\lib\\site-packages\\ipykernel_launcher.py:1: SettingWithCopyWarning: \n",
      "A value is trying to be set on a copy of a slice from a DataFrame.\n",
      "Try using .loc[row_indexer,col_indexer] = value instead\n",
      "\n",
      "See the caveats in the documentation: https://pandas.pydata.org/pandas-docs/stable/user_guide/indexing.html#returning-a-view-versus-a-copy\n",
      "  \"\"\"Entry point for launching an IPython kernel.\n"
     ]
    }
   ],
   "source": [
    "%time c[\"fff\"]=c.apply(lambda x: x[\"price\"]/x[\"accumulate\"], axis=1)"
   ]
  },
  {
   "cell_type": "code",
   "execution_count": 125,
   "metadata": {},
   "outputs": [
    {
     "name": "stdout",
     "output_type": "stream",
     "text": [
      "Wall time: 43.7 s\n"
     ]
    },
    {
     "name": "stderr",
     "output_type": "stream",
     "text": [
      "C:\\Users\\leezehua\\AppData\\Local\\conda\\conda\\envs\\py369\\lib\\site-packages\\ipykernel_launcher.py:1: SettingWithCopyWarning: \n",
      "A value is trying to be set on a copy of a slice from a DataFrame.\n",
      "Try using .loc[row_indexer,col_indexer] = value instead\n",
      "\n",
      "See the caveats in the documentation: https://pandas.pydata.org/pandas-docs/stable/user_guide/indexing.html#returning-a-view-versus-a-copy\n",
      "  \"\"\"Entry point for launching an IPython kernel.\n"
     ]
    }
   ],
   "source": [
    "%time c[\"fff\"]=c.apply(lambda x: x[\"price\"]/x[\"accumulate\"], axis=1)"
   ]
  },
  {
   "cell_type": "code",
   "execution_count": 128,
   "metadata": {},
   "outputs": [
    {
     "name": "stdout",
     "output_type": "stream",
     "text": [
      "Wall time: 14 ms\n"
     ]
    },
    {
     "name": "stderr",
     "output_type": "stream",
     "text": [
      "C:\\Users\\leezehua\\AppData\\Local\\conda\\conda\\envs\\py369\\lib\\site-packages\\ipykernel_launcher.py:1: SettingWithCopyWarning: \n",
      "A value is trying to be set on a copy of a slice from a DataFrame.\n",
      "Try using .loc[row_indexer,col_indexer] = value instead\n",
      "\n",
      "See the caveats in the documentation: https://pandas.pydata.org/pandas-docs/stable/user_guide/indexing.html#returning-a-view-versus-a-copy\n",
      "  \"\"\"Entry point for launching an IPython kernel.\n"
     ]
    }
   ],
   "source": [
    "%time c[\"fdf\"]=c[\"price\"]/c[\"accumulate\"]"
   ]
  },
  {
   "cell_type": "code",
   "execution_count": 129,
   "metadata": {},
   "outputs": [
    {
     "data": {
      "text/html": [
       "<div>\n",
       "<style scoped>\n",
       "    .dataframe tbody tr th:only-of-type {\n",
       "        vertical-align: middle;\n",
       "    }\n",
       "\n",
       "    .dataframe tbody tr th {\n",
       "        vertical-align: top;\n",
       "    }\n",
       "\n",
       "    .dataframe thead th {\n",
       "        text-align: right;\n",
       "    }\n",
       "</style>\n",
       "<table border=\"1\" class=\"dataframe\">\n",
       "  <thead>\n",
       "    <tr style=\"text-align: right;\">\n",
       "      <th></th>\n",
       "      <th>fund_code</th>\n",
       "      <th>accumulate</th>\n",
       "      <th>fff</th>\n",
       "      <th>fdf</th>\n",
       "    </tr>\n",
       "    <tr>\n",
       "      <th>price</th>\n",
       "      <th></th>\n",
       "      <th></th>\n",
       "      <th></th>\n",
       "      <th></th>\n",
       "    </tr>\n",
       "  </thead>\n",
       "  <tbody>\n",
       "    <tr>\n",
       "      <th>0.0614</th>\n",
       "      <td>001481</td>\n",
       "      <td>0.0614</td>\n",
       "      <td>1.000000</td>\n",
       "      <td>1.000000</td>\n",
       "    </tr>\n",
       "    <tr>\n",
       "      <th>0.0615</th>\n",
       "      <td>001481</td>\n",
       "      <td>0.0615</td>\n",
       "      <td>1.000000</td>\n",
       "      <td>1.000000</td>\n",
       "    </tr>\n",
       "    <tr>\n",
       "      <th>0.0644</th>\n",
       "      <td>001481</td>\n",
       "      <td>0.0644</td>\n",
       "      <td>1.000000</td>\n",
       "      <td>1.000000</td>\n",
       "    </tr>\n",
       "    <tr>\n",
       "      <th>0.0659</th>\n",
       "      <td>001481</td>\n",
       "      <td>0.0659</td>\n",
       "      <td>1.000000</td>\n",
       "      <td>1.000000</td>\n",
       "    </tr>\n",
       "    <tr>\n",
       "      <th>0.0667</th>\n",
       "      <td>001481</td>\n",
       "      <td>0.0667</td>\n",
       "      <td>1.000000</td>\n",
       "      <td>1.000000</td>\n",
       "    </tr>\n",
       "    <tr>\n",
       "      <th>...</th>\n",
       "      <td>...</td>\n",
       "      <td>...</td>\n",
       "      <td>...</td>\n",
       "      <td>...</td>\n",
       "    </tr>\n",
       "    <tr>\n",
       "      <th>109.8090</th>\n",
       "      <td>184801</td>\n",
       "      <td>1.1910</td>\n",
       "      <td>92.198992</td>\n",
       "      <td>92.198992</td>\n",
       "    </tr>\n",
       "    <tr>\n",
       "      <th>109.8290</th>\n",
       "      <td>184801</td>\n",
       "      <td>1.1910</td>\n",
       "      <td>92.215785</td>\n",
       "      <td>92.215785</td>\n",
       "    </tr>\n",
       "    <tr>\n",
       "      <th>109.8480</th>\n",
       "      <td>184801</td>\n",
       "      <td>1.1920</td>\n",
       "      <td>92.154362</td>\n",
       "      <td>92.154362</td>\n",
       "    </tr>\n",
       "    <tr>\n",
       "      <th>110.1330</th>\n",
       "      <td>184801</td>\n",
       "      <td>1.1940</td>\n",
       "      <td>92.238693</td>\n",
       "      <td>92.238693</td>\n",
       "    </tr>\n",
       "    <tr>\n",
       "      <th>110.2240</th>\n",
       "      <td>184801</td>\n",
       "      <td>1.1950</td>\n",
       "      <td>92.237657</td>\n",
       "      <td>92.237657</td>\n",
       "    </tr>\n",
       "  </tbody>\n",
       "</table>\n",
       "<p>1149070 rows × 4 columns</p>\n",
       "</div>"
      ],
      "text/plain": [
       "         fund_code  accumulate        fff        fdf\n",
       "price                                               \n",
       "0.0614      001481      0.0614   1.000000   1.000000\n",
       "0.0615      001481      0.0615   1.000000   1.000000\n",
       "0.0644      001481      0.0644   1.000000   1.000000\n",
       "0.0659      001481      0.0659   1.000000   1.000000\n",
       "0.0667      001481      0.0667   1.000000   1.000000\n",
       "...            ...         ...        ...        ...\n",
       "109.8090    184801      1.1910  92.198992  92.198992\n",
       "109.8290    184801      1.1910  92.215785  92.215785\n",
       "109.8480    184801      1.1920  92.154362  92.154362\n",
       "110.1330    184801      1.1940  92.238693  92.238693\n",
       "110.2240    184801      1.1950  92.237657  92.237657\n",
       "\n",
       "[1149070 rows x 4 columns]"
      ]
     },
     "execution_count": 129,
     "metadata": {},
     "output_type": "execute_result"
    }
   ],
   "source": [
    "c.set_index(\"price\")"
   ]
  },
  {
   "cell_type": "code",
   "execution_count": null,
   "metadata": {},
   "outputs": [],
   "source": [
    "fund_list = data_oper"
   ]
  }
 ],
 "metadata": {
  "kernelspec": {
   "display_name": "Python 3",
   "language": "python",
   "name": "python3"
  },
  "language_info": {
   "codemirror_mode": {
    "name": "ipython",
    "version": 3
   },
   "file_extension": ".py",
   "mimetype": "text/x-python",
   "name": "python",
   "nbconvert_exporter": "python",
   "pygments_lexer": "ipython3",
   "version": "3.6.9"
  }
 },
 "nbformat": 4,
 "nbformat_minor": 4
}
